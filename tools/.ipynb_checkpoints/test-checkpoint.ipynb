{
 "cells": [
  {
   "cell_type": "code",
   "execution_count": 7,
   "id": "manufactured-kingston",
   "metadata": {},
   "outputs": [],
   "source": [
    "import os \n",
    "\n",
    "ocr_result = \"/mmu-ocr/pub/datasets/Video_OCR_Res/webvid\"\n",
    "video_path = \"/mmu-ocr/pub/datasets/pretrain_data/webvid-2/videos\"\n",
    "\n",
    "video_number = 0\n",
    "\n",
    "for cls in os.listdir(video_path):\n",
    "    cls_p = os.path.join(video_path,cls)\n",
    "    \n",
    "    if os.path.isdir(cls_p):\n",
    "        for a in os.listdir(cls_p):\n",
    "            if \"mp4\" in a:\n",
    "                video_number+=1"
   ]
  },
  {
   "cell_type": "code",
   "execution_count": 5,
   "id": "bronze-doctrine",
   "metadata": {},
   "outputs": [
    {
     "data": {
      "text/plain": [
       "2467459"
      ]
     },
     "execution_count": 5,
     "metadata": {},
     "output_type": "execute_result"
    }
   ],
   "source": [
    "video_number"
   ]
  },
  {
   "cell_type": "code",
   "execution_count": 9,
   "id": "going-sight",
   "metadata": {},
   "outputs": [
    {
     "data": {
      "text/plain": [
       "1775915"
      ]
     },
     "execution_count": 9,
     "metadata": {},
     "output_type": "execute_result"
    }
   ],
   "source": [
    "len(os.listdir(ocr_result))"
   ]
  },
  {
   "cell_type": "code",
   "execution_count": 9,
   "id": "spiritual-recovery",
   "metadata": {},
   "outputs": [
    {
     "name": "stdout",
     "output_type": "stream",
     "text": [
      "{'path': 'pretrain_data/webvid-2/videos/079351_079400/1052203162.mp4', 'captions_info': [{'caption': 'Aerial 4k shot of san francisco - oakland bay bridge, cars and skyscrapers. dark moody weather', 'caption_info': {}}], 'videos_info': {'videoid': '1052203162', 'name': 'Aerial 4k shot of san francisco - oakland bay bridge, cars and skyscrapers. dark moody weather', 'page_idx': '79390', 'page_dir': '079351_079400', 'duration': 'PT00H00M15S', 'contentUrl': 'https://ak.picdn.net/shutterstock/videos/1052203162/preview/stock-footage-aerial-k-shot-of-san-francisco-oakland-bay-bridge-cars-and-skyscrapers-dark-moody-weather.mp4', 'source': 'webvid', 'split': 'train', 'Kwai_OCR': 'Video_OCR_Res/webvid/1052203162.json'}}\n"
     ]
    },
    {
     "ename": "AssertionError",
     "evalue": "",
     "output_type": "error",
     "traceback": [
      "\u001b[0;31m---------------------------------------------------------------------------\u001b[0m",
      "\u001b[0;31mAssertionError\u001b[0m                            Traceback (most recent call last)",
      "\u001b[0;32m<ipython-input-9-4b47b49726ef>\u001b[0m in \u001b[0;36m<module>\u001b[0;34m\u001b[0m\n\u001b[1;32m      6\u001b[0m \u001b[0;32mfor\u001b[0m \u001b[0mi\u001b[0m \u001b[0;32min\u001b[0m \u001b[0mload_dict\u001b[0m\u001b[0;34m:\u001b[0m\u001b[0;34m\u001b[0m\u001b[0;34m\u001b[0m\u001b[0m\n\u001b[1;32m      7\u001b[0m     \u001b[0mprint\u001b[0m\u001b[0;34m(\u001b[0m\u001b[0mi\u001b[0m\u001b[0;34m)\u001b[0m\u001b[0;34m\u001b[0m\u001b[0;34m\u001b[0m\u001b[0m\n\u001b[0;32m----> 8\u001b[0;31m     \u001b[0;32massert\u001b[0m \u001b[0;32mFalse\u001b[0m\u001b[0;34m\u001b[0m\u001b[0;34m\u001b[0m\u001b[0m\n\u001b[0m",
      "\u001b[0;31mAssertionError\u001b[0m: "
     ]
    }
   ],
   "source": [
    "import json\n",
    "path = \"/mmu-ocr/pub/weijiawu/MyBenchMark/TextVR/TextVR/StarVR/data/WebVid-2m/WebVid-2m.json\"\n",
    "\n",
    "with open(path,'r') as load_f:\n",
    "    load_dict = json.load(load_f)\n",
    "for i in load_dict:\n",
    "    print(i)\n",
    "    assert False"
   ]
  },
  {
   "cell_type": "markdown",
   "id": "practical-mount",
   "metadata": {},
   "source": [
    "# rename \n"
   ]
  },
  {
   "cell_type": "code",
   "execution_count": 8,
   "id": "authorized-demand",
   "metadata": {},
   "outputs": [],
   "source": [
    "import json\n",
    "import shutil\n",
    "import os\n",
    "lisrss = {\"speech\":\"Speech_Interview\",\n",
    "          \"street view indoor\":\"Street_View_Indoor\",\n",
    "          \"street view outdoor\":\"Street_View_Outdoor\",\n",
    "          \"news\":\"News\",\n",
    "          \"sports\":\"Sports\",\n",
    "          \"games\":\"Games\",\n",
    "          \"driving\":\"Driving\",\n",
    "         \"Technology\":\"Technology\",\n",
    "         \"movie\":\"Movie\"}\n",
    "\n",
    "class_list = [\"Movie\",\"Technology\",\"Driving\",\"Games\",\"Sports\",\"News\",\"Street_View_Outdoor\",\"Street_View_Indoor\",\"Speech_Interview\"]\n",
    "unknown = [\"Technology\",\"News\",\"Movie\",\"Speech_Interview\"]\n",
    "topath = \"/mmu-ocr/pub/weijiawu/MyBenchMark/ViTVR/TextVR/video\"\n",
    "\n",
    "with open(\"/mmu-ocr/pub/weijiawu/MyBenchMark/TextVR/TextVR/StarVR/data/WebVid-2m/webvid.json\",'r') as load_f:\n",
    "    load_dict = json.load(load_f)\n",
    "\n",
    "\n",
    "strstr = {}\n",
    "for i,line in enumerate(load_dict):\n",
    "    path = line['path']\n",
    "#     str_list = path.split(\"/\")[-2]\n",
    "    \n",
    "    tooo = path.replace(\"/mmu-ocr/datasets/\",\"\")\n",
    "    load_dict[i]['path'] = tooo\n",
    "\n",
    "\n",
    "    ocr_path = load_dict[i]['videos_info']['ocr_path']\n",
    "    load_dict[i]['videos_info'].pop(\"ocr_path\")\n",
    "    ocr_path = ocr_path.replace(\"ocr_anns/webvid\",\"Video_OCR_Res/webvid\")\n",
    "    load_dict[i]['videos_info']['Kwai_OCR'] = ocr_path\n",
    "    \n",
    "    \n",
    "with open(\"./WebVid-2m.json\",\"w\") as f:\n",
    "     json.dump(load_dict,f)    "
   ]
  }
 ],
 "metadata": {
  "kernelspec": {
   "display_name": "Python 3",
   "language": "python",
   "name": "python3"
  },
  "language_info": {
   "codemirror_mode": {
    "name": "ipython",
    "version": 3
   },
   "file_extension": ".py",
   "mimetype": "text/x-python",
   "name": "python",
   "nbconvert_exporter": "python",
   "pygments_lexer": "ipython3",
   "version": "3.7.9"
  }
 },
 "nbformat": 4,
 "nbformat_minor": 5
}
